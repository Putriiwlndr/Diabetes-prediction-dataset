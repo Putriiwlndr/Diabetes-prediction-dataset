{
 "cells": [
  {
   "cell_type": "markdown",
   "id": "158a2c03-2cbb-4401-b60b-a17531cccaef",
   "metadata": {},
   "source": [
    "import library yang diperlukan\n",
    "- pandas: Untuk membaca dan memanipulasi data.\n",
    "- sklearn.model_selection: Untuk membagi dataset dan melakukan validasi silang.\n",
    "- sklearn.tree: Untuk membangun dan melatih model pohon keputusan.\n",
    "- sklearn.metrics: Untuk mengevaluasi performa model."
   ]
  },
  {
   "cell_type": "code",
   "execution_count": null,
   "id": "98c38d73-81e3-49f7-9dc0-ffc5762af534",
   "metadata": {},
   "outputs": [],
   "source": []
  }
 ],
 "metadata": {
  "kernelspec": {
   "display_name": "Python 3 (ipykernel)",
   "language": "python",
   "name": "python3"
  },
  "language_info": {
   "codemirror_mode": {
    "name": "ipython",
    "version": 3
   },
   "file_extension": ".py",
   "mimetype": "text/x-python",
   "name": "python",
   "nbconvert_exporter": "python",
   "pygments_lexer": "ipython3",
   "version": "3.10.8"
  }
 },
 "nbformat": 4,
 "nbformat_minor": 5
}
